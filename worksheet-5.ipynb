{
 "cells": [
  {
   "cell_type": "markdown",
   "metadata": {},
   "source": [
    "### Initialize a Local Repo"
   ]
  },
  {
   "cell_type": "code",
   "execution_count": 1,
   "metadata": {},
   "outputs": [
    {
     "name": "stdout",
     "output_type": "stream",
     "text": [
      "Initialized empty Git repository in /home/ngp/handouts/.git/\n"
     ]
    }
   ],
   "source": [
    "git init"
   ]
  },
  {
   "cell_type": "code",
   "execution_count": 2,
   "metadata": {},
   "outputs": [
    {
     "name": "stdout",
     "output_type": "stream",
     "text": [
      "On branch master\n",
      "\n",
      "Initial commit\n",
      "\n",
      "Changes to be committed:\n",
      "  (use \"git rm --cached <file>...\" to unstage)\n",
      "\n",
      "\tnew file:   README.md\n",
      "\n",
      "Untracked files:\n",
      "  (use \"git add <file>...\" to include in what will be committed)\n",
      "\n",
      "\t.Rproj.user/\n",
      "\t.ipynb_checkpoints/\n",
      "\tCONTRIBUTING.md\n",
      "\tdata/\n",
      "\thandouts.Rproj\n",
      "\tworksheet-1.R\n",
      "\tworksheet-2.R\n",
      "\tworksheet-3.R\n",
      "\tworksheet-4.R\n",
      "\tworksheet-5.ipynb\n",
      "\tworksheet-6.ipynb\n",
      "\tworksheet-7.ipynb\n",
      "\n"
     ]
    }
   ],
   "source": [
    "git add README.md\n",
    "git status"
   ]
  },
  {
   "cell_type": "code",
   "execution_count": 4,
   "metadata": {},
   "outputs": [
    {
     "name": "stdout",
     "output_type": "stream",
     "text": [
      "[master (root-commit) 732f062] initial commit\n",
      " 1 file changed, 10 insertions(+)\n",
      " create mode 100644 README.md\n"
     ]
    }
   ],
   "source": [
    "git config --global user.email \"ngp@terpmail.umd.edu\"\n",
    "git config --global user.name \"Nathalie Gonzalez\"\n",
    "git commit -m \"initial commit\""
   ]
  },
  {
   "cell_type": "code",
   "execution_count": 5,
   "metadata": {},
   "outputs": [
    {
     "name": "stdout",
     "output_type": "stream",
     "text": [
      "On branch master\n",
      "Untracked files:\n",
      "  (use \"git add <file>...\" to include in what will be committed)\n",
      "\n",
      "\t.Rproj.user/\n",
      "\t.ipynb_checkpoints/\n",
      "\tCONTRIBUTING.md\n",
      "\tdata/\n",
      "\thandouts.Rproj\n",
      "\tworksheet-1.R\n",
      "\tworksheet-2.R\n",
      "\tworksheet-3.R\n",
      "\tworksheet-4.R\n",
      "\tworksheet-5.ipynb\n",
      "\tworksheet-6.ipynb\n",
      "\tworksheet-7.ipynb\n",
      "\n",
      "nothing added to commit but untracked files present (use \"git add\" to track)\n"
     ]
    }
   ],
   "source": [
    "git status"
   ]
  },
  {
   "cell_type": "code",
   "execution_count": 6,
   "metadata": {},
   "outputs": [
    {
     "name": "stdout",
     "output_type": "stream",
     "text": [
      "commit 732f062b0bc317724da634e3c5c58edbb0c9e49a\n",
      "Author: Nathalie Gonzalez <ngp@terpmail.umd.edu>\n",
      "Date:   Thu Jan 18 14:44:19 2018 +0000\n",
      "\n",
      "    initial commit\n"
     ]
    }
   ],
   "source": [
    "git log"
   ]
  },
  {
   "cell_type": "code",
   "execution_count": 8,
   "metadata": {},
   "outputs": [
    {
     "name": "stdout",
     "output_type": "stream",
     "text": [
      "[master af3a436] second commit\n",
      " 1 file changed, 1 insertion(+), 1 deletion(-)\n",
      "commit af3a436feba2fcc9e2c8394f92f4d86518dd4192\n",
      "Author: Nathalie Gonzalez <ngp@terpmail.umd.edu>\n",
      "Date:   Thu Jan 18 14:55:17 2018 +0000\n",
      "\n",
      "    second commit\n",
      "\n",
      "commit 732f062b0bc317724da634e3c5c58edbb0c9e49a\n",
      "Author: Nathalie Gonzalez <ngp@terpmail.umd.edu>\n",
      "Date:   Thu Jan 18 14:44:19 2018 +0000\n",
      "\n",
      "    initial commit\n"
     ]
    }
   ],
   "source": [
    "git add README.md\n",
    "git commit -m \"second commit\"\n",
    "git log "
   ]
  },
  {
   "cell_type": "code",
   "execution_count": 9,
   "metadata": {},
   "outputs": [
    {
     "name": "stdout",
     "output_type": "stream",
     "text": [
      "On branch master\n",
      "Untracked files:\n",
      "\t.Rproj.user/\n",
      "\t.ipynb_checkpoints/\n",
      "\tCONTRIBUTING.md\n",
      "\tdata/\n",
      "\thandouts.Rproj\n",
      "\tworksheet-1.R\n",
      "\tworksheet-2.R\n",
      "\tworksheet-3.R\n",
      "\tworksheet-4.R\n",
      "\tworksheet-5.ipynb\n",
      "\tworksheet-6.ipynb\n",
      "\tworksheet-7.ipynb\n",
      "\n",
      "nothing added to commit but untracked files present\n"
     ]
    },
    {
     "ename": "",
     "evalue": "1",
     "execution_count": 9,
     "output_type": "error",
     "traceback": []
    }
   ],
   "source": [
    "git commit -a -m \"third commit\""
   ]
  },
  {
   "cell_type": "code",
   "execution_count": 11,
   "metadata": {},
   "outputs": [
    {
     "name": "stdout",
     "output_type": "stream",
     "text": [
      "commit af3a436feba2fcc9e2c8394f92f4d86518dd4192\n",
      "Author: Nathalie Gonzalez <ngp@terpmail.umd.edu>\n",
      "Date:   Thu Jan 18 14:55:17 2018 +0000\n",
      "\n",
      "    second commit\n",
      "\n",
      "diff --git a/README.md b/README.md\n",
      "index f67e223..a1d5917 100644\n",
      "--- a/README.md\n",
      "+++ b/README.md\n",
      "@@ -1,6 +1,6 @@\n",
      " # README.md\n",
      " \n",
      "-A `README.md` file is a very useful component of any project repository. As you can (or may soon) see, it is automatically rendered on GitHub as a simple \"homepage\" for your project. Instructions for creating your own GitHub repository from these files may be given during the course. The same instructions are also summarized in [CONTRIBUTING.md].\n",
      "+A `README.md` AAAAAAAfile is a very useful component of any project repository. As you can (or may soon) see, it is automatically rendered on GitHub as a simple \"homepage\" for your project. Instructions for creating your own GitHub repository from these files may be given during the course. The same instructions are also summarized in [CONTRIBUTING.md].\n",
      " \n",
      " ## Data\n",
      " \n"
     ]
    }
   ],
   "source": [
    "git show"
   ]
  },
  {
   "cell_type": "code",
   "execution_count": 14,
   "metadata": {},
   "outputs": [
    {
     "name": "stdout",
     "output_type": "stream",
     "text": [
      "[master d8e8340] Revert \"second commit\"\n",
      " 1 file changed, 1 insertion(+), 1 deletion(-)\n"
     ]
    }
   ],
   "source": [
    "git revert --no-edit af3a436"
   ]
  },
  {
   "cell_type": "code",
   "execution_count": 15,
   "metadata": {},
   "outputs": [
    {
     "name": "stdout",
     "output_type": "stream",
     "text": [
      "commit d8e8340ac9e0803e38f0db4146f4c28ac250add5\n",
      "Author: Nathalie Gonzalez <ngp@terpmail.umd.edu>\n",
      "Date:   Thu Jan 18 15:13:28 2018 +0000\n",
      "\n",
      "    Revert \"second commit\"\n",
      "    \n",
      "    This reverts commit af3a436feba2fcc9e2c8394f92f4d86518dd4192.\n",
      "\n",
      "commit af3a436feba2fcc9e2c8394f92f4d86518dd4192\n",
      "Author: Nathalie Gonzalez <ngp@terpmail.umd.edu>\n",
      "Date:   Thu Jan 18 14:55:17 2018 +0000\n",
      "\n",
      "    second commit\n",
      "\n",
      "commit 732f062b0bc317724da634e3c5c58edbb0c9e49a\n",
      "Author: Nathalie Gonzalez <ngp@terpmail.umd.edu>\n",
      "Date:   Thu Jan 18 14:44:19 2018 +0000\n",
      "\n",
      "    initial commit\n"
     ]
    }
   ],
   "source": [
    "git log"
   ]
  },
  {
   "cell_type": "markdown",
   "metadata": {},
   "source": [
    "### GitHub"
   ]
  },
  {
   "cell_type": "code",
   "execution_count": 16,
   "metadata": {},
   "outputs": [
    {
     "name": "stdout",
     "output_type": "stream",
     "text": [
      "Username for 'https://github.com': \n"
     ]
    }
   ],
   "source": [
    "git remote add origin https://github.com/natygopri/bsos-lessons.git\n",
    "git push -u origin master"
   ]
  },
  {
   "cell_type": "code",
   "execution_count": null,
   "metadata": {},
   "outputs": [],
   "source": [
    "git remote add origin ..."
   ]
  },
  {
   "cell_type": "markdown",
   "metadata": {},
   "source": [
    "**Important:** Do your first \"git push\" in the Terminal, so you can enter a password."
   ]
  },
  {
   "cell_type": "markdown",
   "metadata": {},
   "source": [
    "### Merging"
   ]
  },
  {
   "cell_type": "code",
   "execution_count": null,
   "metadata": {},
   "outputs": [],
   "source": [
    "git commit -am 'add important info to README.md'"
   ]
  },
  {
   "cell_type": "code",
   "execution_count": null,
   "metadata": {},
   "outputs": [],
   "source": [
    "..."
   ]
  },
  {
   "cell_type": "code",
   "execution_count": null,
   "metadata": {},
   "outputs": [],
   "source": [
    "..."
   ]
  },
  {
   "cell_type": "code",
   "execution_count": null,
   "metadata": {},
   "outputs": [],
   "source": [
    "..."
   ]
  },
  {
   "cell_type": "markdown",
   "metadata": {},
   "source": [
    "### Files under Version Control"
   ]
  },
  {
   "cell_type": "code",
   "execution_count": null,
   "metadata": {},
   "outputs": [],
   "source": [
    "mkdir \"~/Google Drive\"\n",
    "ln -s cloud \"~/Google Drive/\""
   ]
  },
  {
   "cell_type": "code",
   "execution_count": null,
   "metadata": {},
   "outputs": [],
   "source": [
    "# after creating .gitignore\n",
    "git add .gitignore\n",
    "git ..."
   ]
  },
  {
   "cell_type": "markdown",
   "metadata": {},
   "source": [
    "### Collaborators"
   ]
  },
  {
   "cell_type": "code",
   "execution_count": null,
   "metadata": {},
   "outputs": [],
   "source": [
    "git ...\n",
    "git ..."
   ]
  },
  {
   "cell_type": "code",
   "execution_count": null,
   "metadata": {},
   "outputs": [],
   "source": [
    "git ..."
   ]
  },
  {
   "cell_type": "code",
   "execution_count": null,
   "metadata": {},
   "outputs": [],
   "source": [
    "git ..."
   ]
  }
 ],
 "metadata": {
  "kernelspec": {
   "display_name": "Bash",
   "language": "bash",
   "name": "bash"
  },
  "language_info": {
   "codemirror_mode": "shell",
   "file_extension": ".sh",
   "mimetype": "text/x-sh",
   "name": "bash"
  }
 },
 "nbformat": 4,
 "nbformat_minor": 2
}
